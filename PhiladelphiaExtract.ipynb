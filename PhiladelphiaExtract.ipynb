{
 "cells": [
  {
   "cell_type": "code",
   "execution_count": 9,
   "metadata": {
    "collapsed": false
   },
   "outputs": [],
   "source": [
    "# h/t to wwymak for the nyc code that this is based heavily on.\n",
    "import numpy as np\n",
    "import pandas as pd\n",
    "import arrow\n",
    "import datetime\n",
    "import urllib\n",
    " \n",
    "#setup variables for paging\n",
    "#find total number of records to iterate through\n",
    "countquery = ('https://data.phila.gov/resource/sspu-uyfa.json?$$app_token=QUiKJ4ZSXVHerTpOYAIqt7uf3&$select=count(*)')\n",
    "numrecords = pd.read_json(countquery)\n",
    "#get total number of records as an integer\n",
    "numr = numrecords.iloc[0,0]\n",
    "limit = 50000\n",
    "offsetval = limit\n",
    "#Date Range\n",
    "mindate = \"2015-12-31\"\n",
    "maxdate = \"2017-01-01\"\n",
    "#Apply to Query string\n",
    "qonestr = \"https://data.phila.gov/resource/sspu-uyfa.json?$where=dispatch_date>'\"+ mindate +\"'%20AND%20dispatch_date<'\"+ maxdate + \"'&$$app_token=QUiKJ4ZSXVHerTpOYAIqt7uf3&$limit=\" + str(limit)\n",
    "crime_dataframe = pd.read_json(qonestr)\t\n",
    "#Page through data, appemd to the dataframe\n",
    "while (offsetval < (numr - limit)):\n",
    "    qtwostr = qonestr + \"&$offset=\" + str(offsetval)\n",
    "    crime_dataframe = crime_dataframe.append(pd.read_json(qtwostr), ignore_index=True)\n",
    "    offsetval = offsetval + limit\n",
    "#extract date into columns\n",
    "crime_dataframe['year'] = crime_dataframe['dispatch_date'].map(lambda x: arrow.get(x).datetime.year)\n",
    "crime_dataframe['month'] = crime_dataframe['dispatch_date'].map(lambda x: arrow.get(x).datetime.month)\n",
    "crime_dataframe['day'] = crime_dataframe['dispatch_date'].map(lambda x: arrow.get(x).datetime.day)\n",
    "#set-up count column\n",
    "crime_dataframe_grouped = crime_dataframe.groupby(['year', \"month\", \"day\", \"text_general_code\"]).aggregate('count')\n",
    "grouped = crime_dataframe_grouped.reset_index()\n",
    "grouped_subset = grouped.loc[:, ['year','month','day','text_general_code', 'dc_dist']]\n",
    "\n",
    "# the count column is the last column in the df\n",
    "current_count_header_name = grouped_subset.columns.values[len(grouped_subset.columns.values) -1]\n",
    "final = grouped_subset.rename(columns = {current_count_header_name: 'count'})\n",
    "\n",
    "# save to csv\n",
    "final.to_csv('phl-2016-crime.csv', index=False)"
   ]
  }
 ],
 "metadata": {
  "anaconda-cloud": {},
  "kernelspec": {
   "display_name": "Python [default]",
   "language": "python",
   "name": "python3"
  },
  "language_info": {
   "codemirror_mode": {
    "name": "ipython",
    "version": 3
   },
   "file_extension": ".py",
   "mimetype": "text/x-python",
   "name": "python",
   "nbconvert_exporter": "python",
   "pygments_lexer": "ipython3",
   "version": "3.5.2"
  }
 },
 "nbformat": 4,
 "nbformat_minor": 1
}
